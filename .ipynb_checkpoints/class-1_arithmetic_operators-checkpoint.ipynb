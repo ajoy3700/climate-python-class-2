{
 "cells": [
  {
   "cell_type": "markdown",
   "metadata": {},
   "source": [
    "# Practical example of Arithmetic operators in Python\n",
    "\n",
    "Trainer: Md. Babul Miah\n",
    "    \n",
    "Assistant director of Research Society (https://researchsociety20.org/founder-and-director/)\n",
    "    \n",
    "email: babul.bsmrstu16@gmail.com, babul@jbnu.\n",
    "\n",
    "\n",
    "\n",
    "\n",
    "\n",
    "\n",
    "\n",
    "Trainer: Md. Jalal Uddin\n",
    "    \n",
    "Founder and director of Research Society (https://researchsociety20.org/founder-and-director/)\n",
    "    \n",
    "email: dmjalal90@gmail.com, 20205103002@nuist.edu.cn\n",
    "\n",
    "\n",
    "\n"
   ]
  },
  {
   "cell_type": "markdown",
   "metadata": {},
   "source": [
    "# Define variable"
   ]
  },
  {
   "cell_type": "code",
   "execution_count": 1,
   "metadata": {},
   "outputs": [],
   "source": [
    "a = 5\n",
    "b = 6"
   ]
  },
  {
   "cell_type": "markdown",
   "metadata": {},
   "source": [
    "# Addition by Syntax"
   ]
  },
  {
   "cell_type": "code",
   "execution_count": 2,
   "metadata": {},
   "outputs": [
    {
     "name": "stdout",
     "output_type": "stream",
     "text": [
      "Addition by Syntax =  11\n"
     ]
    }
   ],
   "source": [
    "c = a + b\n",
    "\n",
    "print('Addition by Syntax = ',c)  # to see the output"
   ]
  },
  {
   "cell_type": "markdown",
   "metadata": {},
   "source": [
    "# Addition by Function\n"
   ]
  },
  {
   "cell_type": "code",
   "execution_count": 3,
   "metadata": {},
   "outputs": [
    {
     "name": "stdout",
     "output_type": "stream",
     "text": [
      "Addition by Function =  11\n"
     ]
    }
   ],
   "source": [
    "import operator         # import library\n",
    "\n",
    "d = operator.add(a, b)\n",
    "\n",
    "print('Addition by Function = ',d)"
   ]
  },
  {
   "cell_type": "markdown",
   "metadata": {},
   "source": [
    "# Subtraction by Syntax"
   ]
  },
  {
   "cell_type": "code",
   "execution_count": 4,
   "metadata": {},
   "outputs": [
    {
     "name": "stdout",
     "output_type": "stream",
     "text": [
      "Subtraction by Syntax =  -1\n"
     ]
    }
   ],
   "source": [
    "subs = a-b\n",
    "\n",
    "print('Subtraction by Syntax = ',subs)"
   ]
  },
  {
   "cell_type": "markdown",
   "metadata": {},
   "source": [
    "# Subtraction by Function"
   ]
  },
  {
   "cell_type": "code",
   "execution_count": 5,
   "metadata": {},
   "outputs": [
    {
     "name": "stdout",
     "output_type": "stream",
     "text": [
      "Subtraction by Function =  -1\n"
     ]
    }
   ],
   "source": [
    "subs_1 = operator.sub(a, b)\n",
    "\n",
    "print('Subtraction by Function = ',subs_1)"
   ]
  },
  {
   "cell_type": "markdown",
   "metadata": {},
   "source": [
    "# Multiplication by Syntax"
   ]
  },
  {
   "cell_type": "code",
   "execution_count": 6,
   "metadata": {},
   "outputs": [
    {
     "name": "stdout",
     "output_type": "stream",
     "text": [
      "Multiplication by Syntax =  30\n"
     ]
    }
   ],
   "source": [
    "mul = a*b\n",
    "\n",
    "print('Multiplication by Syntax = ',mul)\n"
   ]
  },
  {
   "cell_type": "markdown",
   "metadata": {},
   "source": [
    "# Multiplication by Function"
   ]
  },
  {
   "cell_type": "code",
   "execution_count": 7,
   "metadata": {},
   "outputs": [
    {
     "name": "stdout",
     "output_type": "stream",
     "text": [
      "Multiplication by Function =  30\n"
     ]
    }
   ],
   "source": [
    "mul_1 = operator.mul(a, b)\n",
    "\n",
    "print('Multiplication by Function = ',mul_1)"
   ]
  },
  {
   "cell_type": "markdown",
   "metadata": {},
   "source": [
    "# Division by Syntax"
   ]
  },
  {
   "cell_type": "code",
   "execution_count": 8,
   "metadata": {},
   "outputs": [
    {
     "name": "stdout",
     "output_type": "stream",
     "text": [
      "division by Syntax =  0.8333333333333334\n"
     ]
    }
   ],
   "source": [
    "div = a/b\n",
    "print('division by Syntax = ',div)"
   ]
  },
  {
   "cell_type": "markdown",
   "metadata": {},
   "source": [
    "# Division by Function"
   ]
  },
  {
   "cell_type": "code",
   "execution_count": 9,
   "metadata": {},
   "outputs": [
    {
     "name": "stdout",
     "output_type": "stream",
     "text": [
      "division by Function =  0.8333333333333334\n"
     ]
    }
   ],
   "source": [
    "div_1 = operator.truediv(a, b)\n",
    "\n",
    "print('division by Function = ',div_1)"
   ]
  },
  {
   "cell_type": "markdown",
   "metadata": {},
   "source": [
    "# Floor division (results into whole number) by Syntax"
   ]
  },
  {
   "cell_type": "code",
   "execution_count": 12,
   "metadata": {},
   "outputs": [
    {
     "name": "stdout",
     "output_type": "stream",
     "text": [
      "Floor division by Syntax  =  0\n"
     ]
    }
   ],
   "source": [
    "fldiv = a//b\n",
    "\n",
    "print('Floor division by Syntax  = ',fldiv)"
   ]
  },
  {
   "cell_type": "code",
   "execution_count": 10,
   "metadata": {},
   "outputs": [
    {
     "data": {
      "text/plain": [
       "1.2"
      ]
     },
     "execution_count": 10,
     "metadata": {},
     "output_type": "execute_result"
    }
   ],
   "source": [
    "p = 6/5\n",
    "p"
   ]
  },
  {
   "cell_type": "code",
   "execution_count": 11,
   "metadata": {},
   "outputs": [
    {
     "data": {
      "text/plain": [
       "1"
      ]
     },
     "execution_count": 11,
     "metadata": {},
     "output_type": "execute_result"
    }
   ],
   "source": [
    "p = 6//5\n",
    "p"
   ]
  },
  {
   "cell_type": "markdown",
   "metadata": {},
   "source": [
    "# Floor division (results into whole number) by Function"
   ]
  },
  {
   "cell_type": "code",
   "execution_count": 13,
   "metadata": {},
   "outputs": [
    {
     "name": "stdout",
     "output_type": "stream",
     "text": [
      "Floor division by Function =  0\n"
     ]
    }
   ],
   "source": [
    "fldiv_1 = operator.floordiv(a, b)\n",
    "\n",
    "print('Floor division by Function = ',fldiv_1)"
   ]
  },
  {
   "cell_type": "markdown",
   "metadata": {},
   "source": [
    "# Modulus (remainder) by Syntax"
   ]
  },
  {
   "cell_type": "code",
   "execution_count": 14,
   "metadata": {},
   "outputs": [
    {
     "name": "stdout",
     "output_type": "stream",
     "text": [
      "Modulus by Syntax =  5\n"
     ]
    }
   ],
   "source": [
    "mod = a%b\n",
    "\n",
    "print('Modulus by Syntax = ',mod)"
   ]
  },
  {
   "cell_type": "code",
   "execution_count": 15,
   "metadata": {},
   "outputs": [
    {
     "data": {
      "text/plain": [
       "1"
      ]
     },
     "execution_count": 15,
     "metadata": {},
     "output_type": "execute_result"
    }
   ],
   "source": [
    "q = 6%5\n",
    "q"
   ]
  },
  {
   "cell_type": "markdown",
   "metadata": {},
   "source": [
    "# Modulus (remainder) by Function"
   ]
  },
  {
   "cell_type": "code",
   "execution_count": 16,
   "metadata": {},
   "outputs": [
    {
     "name": "stdout",
     "output_type": "stream",
     "text": [
      "Modulus by Function =  5\n"
     ]
    }
   ],
   "source": [
    "mod_1 = operator.mod(a, b)\n",
    "\n",
    "print('Modulus by Function = ',mod_1)"
   ]
  },
  {
   "cell_type": "markdown",
   "metadata": {},
   "source": [
    "# Exponent (power) by Syntax"
   ]
  },
  {
   "cell_type": "code",
   "execution_count": 17,
   "metadata": {},
   "outputs": [
    {
     "name": "stdout",
     "output_type": "stream",
     "text": [
      "Exponent by Syntax =  15625\n"
     ]
    }
   ],
   "source": [
    "exp = a**b                    # a**b (5*5*5*5*5*5 = 15625)\n",
    "\n",
    "print('Exponent by Syntax = ',exp)"
   ]
  },
  {
   "cell_type": "markdown",
   "metadata": {},
   "source": [
    "# Exponent (power) by Function"
   ]
  },
  {
   "cell_type": "code",
   "execution_count": 18,
   "metadata": {},
   "outputs": [
    {
     "name": "stdout",
     "output_type": "stream",
     "text": [
      "Exponent by Function =  15625\n"
     ]
    }
   ],
   "source": [
    "exp_1 = operator.pow(a, b)          # The pow() function returns the value of x to the power of y.\n",
    "                                    # (5*5*5*5*5*5 = 15625)\n",
    "\n",
    "print('Exponent by Function = ',exp_1)"
   ]
  },
  {
   "cell_type": "markdown",
   "metadata": {},
   "source": [
    "# All Arithmetic operators by Syntax"
   ]
  },
  {
   "cell_type": "code",
   "execution_count": 19,
   "metadata": {},
   "outputs": [
    {
     "name": "stdout",
     "output_type": "stream",
     "text": [
      "Addition by Syntax =  11\n",
      "Subtraction by Syntax =  -1\n",
      "Multiplication by Syntax =  30\n",
      "Division by Syntax =  0.8333333333333334\n",
      "Floor division by Syntax =  0\n",
      "Reminder by Syntax =  5\n",
      "Power or exponent by Syntax =  15625\n"
     ]
    }
   ],
   "source": [
    "a = 5\n",
    "b = 6\n",
    "\n",
    "c     = a + b\n",
    "subs  = a-b\n",
    "mul   = a*b\n",
    "div   = a/b\n",
    "fldiv = a//b\n",
    "modu  = a%b\n",
    "exp   = a**b\n",
    "\n",
    "print('Addition by Syntax = ',c)  # to see the output\n",
    "print('Subtraction by Syntax = ',subs)\n",
    "print('Multiplication by Syntax = ',mul)\n",
    "print('Division by Syntax = ',div)\n",
    "print('Floor division by Syntax = ',fldiv)\n",
    "print('Reminder by Syntax = ',modu)\n",
    "print('Power or exponent by Syntax = ',exp)"
   ]
  },
  {
   "cell_type": "markdown",
   "metadata": {},
   "source": [
    "# All Arithmetic operators by Function"
   ]
  },
  {
   "cell_type": "code",
   "execution_count": 20,
   "metadata": {},
   "outputs": [
    {
     "name": "stdout",
     "output_type": "stream",
     "text": [
      "Addition by Function =  11\n",
      "Subtraction by Function =  -1\n",
      "Multiplication by Function =  30\n",
      "Division by Function =  0.8333333333333334\n",
      "Floor division by Function =  0\n",
      "Reminder by Function =  5\n",
      "Power or exponent by Function =  15625\n"
     ]
    }
   ],
   "source": [
    "import operator         # import library\n",
    "\n",
    "# define variables\n",
    "\n",
    "a = 5\n",
    "b = 6\n",
    "\n",
    "d = operator.add(a, b)\n",
    "e = operator.sub(a, b)\n",
    "f = operator.mul(a, b)\n",
    "g = operator.truediv(a, b)\n",
    "h = operator.floordiv(a, b)\n",
    "i = operator.mod(a, b)\n",
    "j = operator.pow(a, b)\n",
    "\n",
    "print('Addition by Function = ',d)  \n",
    "print('Subtraction by Function = ',e)\n",
    "print('Multiplication by Function = ',f)\n",
    "print('Division by Function = ',g)\n",
    "print('Floor division by Function = ',h)\n",
    "print('Reminder by Function = ',i)\n",
    "print('Power or exponent by Function = ',j)"
   ]
  },
  {
   "cell_type": "markdown",
   "metadata": {},
   "source": [
    "# Practice with real data\n",
    "\n",
    "We will calculate average temperature from minimum and maximum temperature\n",
    "\n",
    "Equation: avg_temp = (min_temp + max_temp)/2\n",
    "\n"
   ]
  },
  {
   "cell_type": "markdown",
   "metadata": {},
   "source": [
    "# Import library and dataset"
   ]
  },
  {
   "cell_type": "code",
   "execution_count": 21,
   "metadata": {},
   "outputs": [
    {
     "data": {
      "text/html": [
       "<div>\n",
       "<style scoped>\n",
       "    .dataframe tbody tr th:only-of-type {\n",
       "        vertical-align: middle;\n",
       "    }\n",
       "\n",
       "    .dataframe tbody tr th {\n",
       "        vertical-align: top;\n",
       "    }\n",
       "\n",
       "    .dataframe thead th {\n",
       "        text-align: right;\n",
       "    }\n",
       "</style>\n",
       "<table border=\"1\" class=\"dataframe\">\n",
       "  <thead>\n",
       "    <tr style=\"text-align: right;\">\n",
       "      <th></th>\n",
       "      <th>Year</th>\n",
       "      <th>min_temp</th>\n",
       "      <th>max_temp</th>\n",
       "    </tr>\n",
       "  </thead>\n",
       "  <tbody>\n",
       "    <tr>\n",
       "      <th>0</th>\n",
       "      <td>1980</td>\n",
       "      <td>11.810000</td>\n",
       "      <td>25.603226</td>\n",
       "    </tr>\n",
       "    <tr>\n",
       "      <th>1</th>\n",
       "      <td>1981</td>\n",
       "      <td>13.103333</td>\n",
       "      <td>24.832258</td>\n",
       "    </tr>\n",
       "    <tr>\n",
       "      <th>2</th>\n",
       "      <td>1982</td>\n",
       "      <td>12.441935</td>\n",
       "      <td>26.622581</td>\n",
       "    </tr>\n",
       "    <tr>\n",
       "      <th>3</th>\n",
       "      <td>1983</td>\n",
       "      <td>11.929032</td>\n",
       "      <td>25.203226</td>\n",
       "    </tr>\n",
       "    <tr>\n",
       "      <th>4</th>\n",
       "      <td>1984</td>\n",
       "      <td>11.670968</td>\n",
       "      <td>25.083871</td>\n",
       "    </tr>\n",
       "  </tbody>\n",
       "</table>\n",
       "</div>"
      ],
      "text/plain": [
       "   Year   min_temp   max_temp\n",
       "0  1980  11.810000  25.603226\n",
       "1  1981  13.103333  24.832258\n",
       "2  1982  12.441935  26.622581\n",
       "3  1983  11.929032  25.203226\n",
       "4  1984  11.670968  25.083871"
      ]
     },
     "execution_count": 21,
     "metadata": {},
     "output_type": "execute_result"
    }
   ],
   "source": [
    "import pandas as pd\n",
    "\n",
    "dataset = pd.read_csv('arithmetic_operators.csv')\n",
    "\n",
    "dataset.head()"
   ]
  },
  {
   "cell_type": "code",
   "execution_count": 22,
   "metadata": {},
   "outputs": [
    {
     "data": {
      "text/plain": [
       "(38, 3)"
      ]
     },
     "execution_count": 22,
     "metadata": {},
     "output_type": "execute_result"
    }
   ],
   "source": [
    "dataset.shape"
   ]
  },
  {
   "cell_type": "code",
   "execution_count": 23,
   "metadata": {},
   "outputs": [],
   "source": [
    "min_tem = dataset.min_temp\n",
    "max_tem = dataset.max_temp"
   ]
  },
  {
   "cell_type": "markdown",
   "metadata": {},
   "source": [
    "# calculate average temperature by Syntax"
   ]
  },
  {
   "cell_type": "code",
   "execution_count": 24,
   "metadata": {},
   "outputs": [
    {
     "name": "stdout",
     "output_type": "stream",
     "text": [
      "average temperature by Syntax = \n",
      " 0    18.706613\n",
      "1    18.967796\n",
      "2    19.532258\n",
      "3    18.566129\n",
      "4    18.377419\n",
      "dtype: float64\n"
     ]
    }
   ],
   "source": [
    "avg_temp = (min_tem + max_tem)/2\n",
    "\n",
    "print('average temperature by Syntax = \\n', avg_temp.head())"
   ]
  },
  {
   "cell_type": "markdown",
   "metadata": {},
   "source": [
    "# calculate average temperature by Function"
   ]
  },
  {
   "cell_type": "code",
   "execution_count": 25,
   "metadata": {},
   "outputs": [
    {
     "name": "stdout",
     "output_type": "stream",
     "text": [
      "average temperature by Function = \n",
      " 0    18.706613\n",
      "1    18.967796\n",
      "2    19.532258\n",
      "3    18.566129\n",
      "4    18.377419\n",
      "dtype: float64\n"
     ]
    }
   ],
   "source": [
    "import operator         # import library\n",
    "\n",
    "avg_temp_1 = operator.add(min_tem, max_tem)/2\n",
    "\n",
    "print('average temperature by Function = \\n',avg_temp_1.head())"
   ]
  },
  {
   "cell_type": "code",
   "execution_count": null,
   "metadata": {},
   "outputs": [],
   "source": []
  }
 ],
 "metadata": {
  "kernelspec": {
   "display_name": "Python 3 (ipykernel)",
   "language": "python",
   "name": "python3"
  },
  "language_info": {
   "codemirror_mode": {
    "name": "ipython",
    "version": 3
   },
   "file_extension": ".py",
   "mimetype": "text/x-python",
   "name": "python",
   "nbconvert_exporter": "python",
   "pygments_lexer": "ipython3",
   "version": "3.11.5"
  }
 },
 "nbformat": 4,
 "nbformat_minor": 4
}
